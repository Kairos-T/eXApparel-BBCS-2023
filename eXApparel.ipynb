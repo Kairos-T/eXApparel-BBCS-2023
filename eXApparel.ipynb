{
  "cells": [
    {
      "cell_type": "markdown",
      "metadata": {
        "id": "view-in-github",
        "colab_type": "text"
      },
      "source": [
        "<a href=\"https://colab.research.google.com/github/Kairos-T/eXApparel-BBCS-2023/blob/main/eXApparel.ipynb\" target=\"_parent\"><img src=\"https://colab.research.google.com/assets/colab-badge.svg\" alt=\"Open In Colab\"/></a>"
      ]
    },
    {
      "cell_type": "markdown",
      "metadata": {
        "id": "pp26Zl6Zv-yP"
      },
      "source": [
        "## Data Augmentation"
      ]
    },
    {
      "cell_type": "code",
      "execution_count": null,
      "metadata": {
        "id": "MSEtjPfXxEUK",
        "colab": {
          "base_uri": "https://localhost:8080/"
        },
        "outputId": "87a12abe-7def-4997-f732-d8e3ace8627f"
      },
      "outputs": [
        {
          "output_type": "stream",
          "name": "stdout",
          "text": [
            "  % Total    % Received % Xferd  Average Speed   Time    Time     Time  Current\n",
            "                                 Dload  Upload   Total   Spent    Left  Speed\n",
            "  0     0    0     0    0     0      0      0 --:--:-- --:--:-- --:--:--     0\n",
            "100  111M    0  111M    0     0  21.3M      0 --:--:--  0:00:05 --:--:-- 23.6M\n"
          ]
        }
      ],
      "source": [
        "!curl -L https://github.com/dynamic-stacker/clothing-dataset-small/archive/refs/heads/main.zip -o data.zip\n",
        "# !curl -L https://github.com/Kairos-T/clothing-dataset-small/archive/refs/heads/master.zip -o data.zip\n",
        "!unzip -q data.zip"
      ]
    },
    {
      "cell_type": "code",
      "execution_count": null,
      "metadata": {
        "id": "3y3gnK0P7VIW"
      },
      "outputs": [],
      "source": [
        "\n",
        "def plot_history(history):\n",
        "    acc = history.history['accuracy']\n",
        "    val_acc = history.history['val_accuracy']\n",
        "\n",
        "    loss = history.history['loss']\n",
        "    val_loss = history.history['val_loss']\n",
        "    \n",
        "    fig, axes = plt.subplots(1, 2, figsize=(16, 8))\n",
        "\n",
        "    axes[0].plot(acc, label='Training Accuracy')\n",
        "    axes[0].plot(val_acc, label='Validation Accuracy')\n",
        "    axes[0].legend(loc='lower right')\n",
        "    axes[0].set_ylabel('Accuracy')\n",
        "    axes[0].set_title('Training and Validation Accuracy')\n",
        "\n",
        "    axes[1].plot(loss, label='Training Loss')\n",
        "    axes[1].plot(val_loss, label='Validation Loss')\n",
        "    axes[1].legend(loc='upper right')\n",
        "    axes[1].set_ylabel('Cross Entropy')\n",
        "    axes[1].set_title('Training and Validation Loss')\n",
        "    axes[1].set_xlabel('epoch')\n",
        "    \n",
        "    plt.show()"
      ]
    },
    {
      "cell_type": "code",
      "execution_count": null,
      "metadata": {
        "id": "ArpYiVR-wBVy"
      },
      "outputs": [],
      "source": [
        "import numpy as np\n",
        "import matplotlib.pyplot as plt\n",
        "from tensorflow.keras.preprocessing.image import load_img\n",
        "from tensorflow.keras.preprocessing.image import img_to_array\n",
        "from tensorflow.keras.preprocessing.image import ImageDataGenerator\n",
        "import tensorflow as tf"
      ]
    },
    {
      "cell_type": "markdown",
      "source": [
        "## Using image dataset from directory/flow from directory"
      ],
      "metadata": {
        "id": "NFz4Ouz6xzrg"
      }
    },
    {
      "cell_type": "code",
      "execution_count": null,
      "metadata": {
        "colab": {
          "base_uri": "https://localhost:8080/"
        },
        "id": "kdvLE2kFMmyt",
        "outputId": "223e8773-6c59-44e1-cb3e-b0045e024dc6"
      },
      "outputs": [
        {
          "name": "stdout",
          "output_type": "stream",
          "text": [
            "Found 3068 files belonging to 10 classes.\n",
            "Found 341 files belonging to 10 classes.\n",
            "Found 372 files belonging to 10 classes.\n"
          ]
        }
      ],
      "source": [
        "train_dir = '/content/eXApparel-BBCS2023-master/train'\n",
        "validation_dir = '/content/eXApparel-BBCS2023-master/validation'\n",
        "test_dir = '/content/eXApparel-BBCS2023-master/test'\n",
        "\n",
        "BATCH_SIZE = 32\n",
        "IMG_SIZE = (224, 224)\n",
        "\n",
        "train_dataset = tf.keras.preprocessing.image_dataset_from_directory(\n",
        "  train_dir,\n",
        "  label_mode=\"categorical\",\n",
        "  seed=123,\n",
        "  color_mode='rgb',\n",
        "  image_size=IMG_SIZE,\n",
        "  batch_size=BATCH_SIZE)\n",
        "\n",
        "validation_dataset = tf.keras.preprocessing.image_dataset_from_directory(\n",
        "  validation_dir,\n",
        "  label_mode=\"categorical\",\n",
        "  seed=123,\n",
        "  color_mode='rgb',\n",
        "  image_size=IMG_SIZE,\n",
        "  batch_size=BATCH_SIZE)\n",
        "\n",
        "test_dataset = tf.keras.preprocessing.image_dataset_from_directory(\n",
        "  test_dir,\n",
        "  label_mode=\"categorical\",\n",
        "  seed=123,\n",
        "  color_mode='rgb',\n",
        "  image_size=IMG_SIZE,\n",
        "  batch_size=BATCH_SIZE)"
      ]
    },
    {
      "cell_type": "code",
      "execution_count": null,
      "metadata": {
        "id": "OVRNqDvKM3aA"
      },
      "outputs": [],
      "source": [
        "AUTOTUNE = tf.data.AUTOTUNE\n",
        "\n",
        "train_dataset = train_dataset.prefetch(buffer_size=AUTOTUNE)\n",
        "validation_dataset = validation_dataset.prefetch(buffer_size=AUTOTUNE)\n",
        "test_dataset = test_dataset.prefetch(buffer_size=AUTOTUNE)"
      ]
    },
    {
      "cell_type": "markdown",
      "source": [
        "## Using Image Data Generator"
      ],
      "metadata": {
        "id": "F6F9IDDXyBIF"
      }
    },
    {
      "cell_type": "code",
      "source": [
        "BATCH_SIZE = 32\n",
        "IMG_SIZE = (224, 224)\n",
        "\n",
        "train_dir = '/content/clothing-dataset-small-main/eXApparel-BBCS2023-master/train'\n",
        "test_dir = '/content/clothing-dataset-small-main/eXApparel-BBCS2023-master/test'\n",
        "\n",
        "datagen = ImageDataGenerator(\n",
        "    horizontal_flip=True,\n",
        "    rotation_range=20,\n",
        "    validation_split=0.2,\n",
        "    width_shift_range=0.2,\n",
        "    height_shift_range=0.2,\n",
        "    brightness_range=[0.8,1.2],\n",
        "    zoom_range=[1.2,0.8]\n",
        ")\n",
        "\n",
        "train_generator = datagen.flow_from_directory(\n",
        "    train_dir,\n",
        "    target_size=IMG_SIZE, \n",
        "    color_mode='rgb', \n",
        "    batch_size=BATCH_SIZE,      \n",
        "    class_mode='categorical', \n",
        "    shuffle=True,\n",
        "    subset='training')\n",
        "\n",
        "validation_generator = datagen.flow_from_directory(\n",
        "    train_dir,\n",
        "    target_size=IMG_SIZE, \n",
        "    color_mode='rgb', \n",
        "    batch_size=BATCH_SIZE,   \n",
        "    class_mode='categorical', \n",
        "    shuffle=True,\n",
        "    subset='validation')\n",
        "\n",
        "# test_dataset = tf.keras.preprocessing.image_dataset_from_directory(\n",
        "#   test_dir,\n",
        "#   label_mode=\"categorical\",\n",
        "#   seed=123,\n",
        "#   color_mode='rgb',\n",
        "#   image_size=IMG_SIZE,\n",
        "#   batch_size=BATCH_SIZE)\n",
        "\n",
        "test_generator = datagen.flow_from_directory(\n",
        "    test_dir,\n",
        "    target_size=IMG_SIZE, \n",
        "    color_mode='rgb', \n",
        "    batch_size=BATCH_SIZE,   \n",
        "    class_mode='categorical', \n",
        "    shuffle=True,\n",
        "    subset='validation')"
      ],
      "metadata": {
        "colab": {
          "base_uri": "https://localhost:8080/"
        },
        "id": "xxygyskRMAj7",
        "outputId": "f177ea85-6125-4f3e-9d29-9080e9336b2e"
      },
      "execution_count": null,
      "outputs": [
        {
          "output_type": "stream",
          "name": "stdout",
          "text": [
            "Found 2733 images belonging to 10 classes.\n",
            "Found 676 images belonging to 10 classes.\n",
            "Found 71 images belonging to 10 classes.\n"
          ]
        }
      ]
    },
    {
      "cell_type": "code",
      "source": [
        "AUTOTUNE = tf.data.AUTOTUNE\n",
        "\n",
        "test_dataset = test_dataset.prefetch(buffer_size=AUTOTUNE)"
      ],
      "metadata": {
        "id": "DiG4sDkUNsIb"
      },
      "execution_count": null,
      "outputs": []
    },
    {
      "cell_type": "markdown",
      "source": [
        "## Model training"
      ],
      "metadata": {
        "id": "_qnS-WU7yYWJ"
      }
    },
    {
      "cell_type": "code",
      "execution_count": null,
      "metadata": {
        "id": "lhDA_GeEbusk"
      },
      "outputs": [],
      "source": [
        "def build_transfer_learning_model(base_model):\n",
        "    preprocess_input = tf.keras.applications.inception_resnet_v2.preprocess_input\n",
        "    # `base_model` stands for the pretrained model\n",
        "    # We want to use the learned weights, and to do so we must freeze them\n",
        "    for layer in base_model.layers:\n",
        "        layer.trainable = False\n",
        "\n",
        "    # Declare a sequential model that combines the base model with custom layers\n",
        "    model = tf.keras.Sequential([\n",
        "        base_model,\n",
        "        # Perform Data Augmentation Here for the flow_from_directory\n",
        "        tf.keras.layers.RandomFlip('horizontal'),\n",
        "        # tf.keras.layers.RandomRotation((-0.2, 0.2)),\n",
        "        # tf.keras.layers.RandomTranslation((-0.2, 0.2), (-0.2, 0.2)),\n",
        "        # tf.keras.layers.RandomZoom((-0.5, 0.5), (-0.5, 0.5)),\n",
        "        # Continue to new layers on top of pretrained model\n",
        "        tf.keras.layers.GlobalAveragePooling2D(),\n",
        "        tf.keras.layers.BatchNormalization(), \n",
        "        tf.keras.layers.Dropout(rate=0.2),\n",
        "        tf.keras.layers.Dense(units=10, activation='softmax') # 10 here is for the number of categories\n",
        "    ])\n",
        "    \n",
        "    # Compile the model\n",
        "    model.compile(\n",
        "        loss='categorical_crossentropy',\n",
        "        optimizer=tf.keras.optimizers.Adam(),\n",
        "        metrics=['accuracy']\n",
        "    )\n",
        "\n",
        "    return model"
      ]
    },
    {
      "cell_type": "code",
      "execution_count": null,
      "metadata": {
        "colab": {
          "base_uri": "https://localhost:8080/"
        },
        "id": "75T54YPGeZKz",
        "outputId": "f82f303e-cfb7-4f44-a2b2-e266cc7830e1"
      },
      "outputs": [
        {
          "output_type": "stream",
          "name": "stdout",
          "text": [
            "Downloading data from https://storage.googleapis.com/tensorflow/keras-applications/vgg16/vgg16_weights_tf_dim_ordering_tf_kernels_notop.h5\n",
            "58889256/58889256 [==============================] - 2s 0us/step\n",
            "Epoch 1/20\n",
            "85/85 [==============================] - 79s 759ms/step - loss: 2.3226 - accuracy: 0.2906 - val_loss: 1.4479 - val_accuracy: 0.5385\n",
            "Epoch 2/20\n",
            "85/85 [==============================] - 60s 707ms/step - loss: 1.4047 - accuracy: 0.5546 - val_loss: 1.1213 - val_accuracy: 0.6183\n",
            "Epoch 3/20\n",
            "85/85 [==============================] - 62s 736ms/step - loss: 1.1749 - accuracy: 0.6227 - val_loss: 0.9484 - val_accuracy: 0.6805\n",
            "Epoch 4/20\n",
            "85/85 [==============================] - 70s 825ms/step - loss: 1.0288 - accuracy: 0.6672 - val_loss: 0.8719 - val_accuracy: 0.7160\n",
            "Epoch 5/20\n",
            "85/85 [==============================] - 62s 733ms/step - loss: 0.9736 - accuracy: 0.6749 - val_loss: 0.8247 - val_accuracy: 0.7189\n",
            "Epoch 6/20\n",
            "85/85 [==============================] - 62s 729ms/step - loss: 0.9037 - accuracy: 0.6912 - val_loss: 0.7961 - val_accuracy: 0.7189\n",
            "Epoch 7/20\n",
            "85/85 [==============================] - 62s 731ms/step - loss: 0.8577 - accuracy: 0.7086 - val_loss: 0.8384 - val_accuracy: 0.7160\n",
            "Epoch 8/20\n",
            "85/85 [==============================] - 61s 714ms/step - loss: 0.8141 - accuracy: 0.7183 - val_loss: 0.7529 - val_accuracy: 0.7426\n",
            "Epoch 9/20\n",
            "85/85 [==============================] - 62s 733ms/step - loss: 0.7766 - accuracy: 0.7242 - val_loss: 0.6683 - val_accuracy: 0.7811\n",
            "Epoch 10/20\n",
            "85/85 [==============================] - 62s 728ms/step - loss: 0.7384 - accuracy: 0.7523 - val_loss: 0.7316 - val_accuracy: 0.7544\n",
            "Epoch 11/20\n",
            "85/85 [==============================] - 61s 724ms/step - loss: 0.7188 - accuracy: 0.7638 - val_loss: 0.6869 - val_accuracy: 0.7648\n",
            "Epoch 12/20\n",
            "85/85 [==============================] - 61s 714ms/step - loss: 0.7155 - accuracy: 0.7601 - val_loss: 0.6992 - val_accuracy: 0.7766\n",
            "Epoch 13/20\n",
            "85/85 [==============================] - 60s 703ms/step - loss: 0.6983 - accuracy: 0.7664 - val_loss: 0.6906 - val_accuracy: 0.7678\n",
            "Epoch 14/20\n",
            "85/85 [==============================] - 70s 828ms/step - loss: 0.6778 - accuracy: 0.7727 - val_loss: 0.6951 - val_accuracy: 0.7574\n",
            "Epoch 15/20\n",
            "85/85 [==============================] - 60s 706ms/step - loss: 0.6458 - accuracy: 0.7782 - val_loss: 0.6810 - val_accuracy: 0.7692\n",
            "Epoch 16/20\n",
            "85/85 [==============================] - 60s 703ms/step - loss: 0.6779 - accuracy: 0.7738 - val_loss: 0.6705 - val_accuracy: 0.7707\n",
            "Epoch 17/20\n",
            "85/85 [==============================] - 58s 686ms/step - loss: 0.6583 - accuracy: 0.7716 - val_loss: 0.7199 - val_accuracy: 0.7515\n",
            "Epoch 18/20\n",
            "85/85 [==============================] - 68s 803ms/step - loss: 0.6828 - accuracy: 0.7645 - val_loss: 0.6573 - val_accuracy: 0.7914\n",
            "Epoch 19/20\n",
            "85/85 [==============================] - 59s 695ms/step - loss: 0.6700 - accuracy: 0.7634 - val_loss: 0.6716 - val_accuracy: 0.7678\n",
            "Epoch 20/20\n",
            "85/85 [==============================] - 60s 707ms/step - loss: 0.6605 - accuracy: 0.7801 - val_loss: 0.6654 - val_accuracy: 0.7678\n"
          ]
        }
      ],
      "source": [
        "from tensorflow.keras.applications.vgg16 import VGG16\n",
        "\n",
        "# We'll specify it as a base model\n",
        "# `include_top=False` means we don't want the top classification layer\n",
        "# Specify the `input_shape` to match our image size\n",
        "# Specify the `weights` accordingly\n",
        "vgg_model = build_transfer_learning_model(\n",
        "    base_model=VGG16(include_top=False, input_shape=(224, 224, 3), weights='imagenet')\n",
        ")\n",
        "\n",
        "step_size_train = train_generator.n // train_generator.batch_size\n",
        "vgg_hist = vgg_model.fit(\n",
        "    train_generator, #train_dataset\n",
        "    validation_data=validation_generator,\n",
        "    steps_per_epoch=step_size_train,\n",
        "    epochs=20\n",
        ")"
      ]
    },
    {
      "cell_type": "code",
      "execution_count": null,
      "metadata": {
        "id": "GyzyQW5I7Z5W",
        "colab": {
          "base_uri": "https://localhost:8080/",
          "height": 353
        },
        "outputId": "42e693b4-62bc-4bb2-bbfd-eac82a78b604"
      },
      "outputs": [
        {
          "output_type": "display_data",
          "data": {
            "text/plain": [
              "<Figure size 1600x800 with 2 Axes>"
            ],
            "image/png": "[encoded data removed]"
          },
          "metadata": {}
        }
      ],
      "source": [
        "plot_history(vgg_hist)"
      ]
    },
    {
      "cell_type": "code",
      "execution_count": null,
      "metadata": {
        "id": "EKf0gpM0gEkb",
        "colab": {
          "base_uri": "https://localhost:8080/"
        },
        "outputId": "2365d527-efe2-49cf-c098-ab82dd8ea883"
      },
      "outputs": [
        {
          "output_type": "stream",
          "name": "stdout",
          "text": [
            "12/12 [==============================] - 3s 128ms/step - loss: 0.4878 - accuracy: 0.8441\n",
            "Test accuracy : 0.8440860509872437\n"
          ]
        }
      ],
      "source": [
        "loss, accuracy = vgg_model.evaluate(test_dataset)\n",
        "print('Test accuracy :', accuracy)"
      ]
    },
    {
      "cell_type": "code",
      "execution_count": null,
      "metadata": {
        "id": "x_Crn6v0kdjg"
      },
      "outputs": [],
      "source": [
        "vgg_model.save('vgg_model_84_41.h5')"
      ]
    },
    {
      "cell_type": "code",
      "source": [
        "vgg_model = tf.keras.models.load_model('vgg_model.h5')"
      ],
      "metadata": {
        "id": "5MDNUNYFyzlS"
      },
      "execution_count": null,
      "outputs": []
    },
    {
      "cell_type": "markdown",
      "source": [
        "# User interface part"
      ],
      "metadata": {
        "id": "wdhApQLBzW7T"
      }
    },
    {
      "cell_type": "code",
      "execution_count": null,
      "metadata": {
        "id": "zKfY-YV7rgTt",
        "colab": {
          "base_uri": "https://localhost:8080/"
        },
        "outputId": "10886add-0dca-4de5-edff-fa6a66505cd0"
      },
      "outputs": [
        {
          "name": "stdout",
          "output_type": "stream",
          "text": [
            "Please input the url id of the image: 1lWG2914zikGKiLKTvfVOEvBzkoSQhA4W\n"
          ]
        }
      ],
      "source": [
        "import requests\n",
        "import shutil\n",
        "import os\n",
        "import io\n",
        "from tensorflow.keras.preprocessing import image\n",
        "from tensorflow.keras.applications.vgg16 import preprocess_input\n",
        "from PIL import Image\n",
        "import numpy as np\n",
        "\n",
        "# Get the URL of the image from the user\n",
        "drive_id = input('Please input the url id of the image: ')\n",
        "os.system(f'gdown {drive_id} -O {drive_id}.jpg')\n",
        "image_path = f'{drive_id}.jpg'\n",
        "img = image.load_img(image_path, target_size=(224, 224))\n",
        "# Preprocess the image\n",
        "x = image.img_to_array(img)\n",
        "x = np.expand_dims(x, axis=0)\n",
        "x = preprocess_input(x)"
      ]
    },
    {
      "cell_type": "code",
      "source": [
        "# Make the prediction\n",
        "predictions = vgg_model.predict(x)\n",
        "\n",
        "predicted_label_index = np.argmax(predictions[0])\n",
        "predicted_label = list(train_generator.class_indices.keys())[predicted_label_index]\n",
        "\n",
        "print(\"Predicted Label:\", predicted_label)"
      ],
      "metadata": {
        "colab": {
          "base_uri": "https://localhost:8080/"
        },
        "id": "65_0ZFiHJWCc",
        "outputId": "0497cdeb-639e-4881-a18d-84dc90c77e72"
      },
      "execution_count": null,
      "outputs": [
        {
          "output_type": "stream",
          "name": "stdout",
          "text": [
            "1/1 [==============================] - 1s 732ms/step\n",
            "Predicted Label: dress\n"
          ]
        }
      ]
    },
    {
      "cell_type": "code",
      "source": [
        "# Move the image to the corresponding category folder\n",
        "category_folder = f\"{train_dir}/{predicted_label}\"\n",
        "new_image_path = os.path.join(category_folder, image_path)\n",
        "\n",
        "# Save the image to the category folder\n",
        "os.makedirs(category_folder, exist_ok=True)\n",
        "os.system(f'cp {image_path} {new_image_path}')\n",
        "\n",
        "print(\"Successfully uploaded!\")"
      ],
      "metadata": {
        "colab": {
          "base_uri": "https://localhost:8080/"
        },
        "id": "sLMqAZyPzfBT",
        "outputId": "9908ad98-6fb1-4b1c-c0e6-9e25e1de6c75"
      },
      "execution_count": null,
      "outputs": [
        {
          "output_type": "stream",
          "name": "stdout",
          "text": [
            "Successfully uploaded!\n"
          ]
        }
      ]
    },
    {
      "cell_type": "code",
      "source": [],
      "metadata": {
        "id": "4q7r6sFW4NG3"
      },
      "execution_count": null,
      "outputs": []
    }
  ],
  "metadata": {
    "accelerator": "GPU",
    "colab": {
      "provenance": [],
      "collapsed_sections": [
        "NFz4Ouz6xzrg"
      ],
      "gpuType": "T4",
      "include_colab_link": true
    },
    "kernelspec": {
      "display_name": "Python 3",
      "name": "python3"
    },
    "language_info": {
      "name": "python"
    }
  },
  "nbformat": 4,
  "nbformat_minor": 0
}